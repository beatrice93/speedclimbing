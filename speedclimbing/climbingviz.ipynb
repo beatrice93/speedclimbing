{
 "cells": [
  {
   "cell_type": "markdown",
   "metadata": {},
   "source": [
    "Speed climbing in pictures\n",
    "====\n",
    "\n",
    "\n",
    "# 1. Presentation and learning objectives\n",
    "This is my first data visualization project, using speed climbing World Cup statistics from the International Federation of Sport Climbing. \n",
    "\n",
    "The main goal was to get comfortable with the pandas and matplotlib libraries for data exploration and visualization. I made plots of all basic types (lines, bar charts, scatter...), incorporating interactivity in some examples (eg. to display world record holders).\n",
    "\n",
    " - File processing and raw text cleaning with `os` and `re`\n",
    " - Data wrangling and exploration with `pandas`\n",
    " - Data visualization with `matplotlib` and `seaborn`\n",
    "\n",
    "\n",
    "_This project was inspired by the final assignment in the coursera \"Applied data science with Python\" course from the University of Michigan._"
   ]
  },
  {
   "cell_type": "code",
   "execution_count": 1,
   "metadata": {},
   "outputs": [],
   "source": [
    "%matplotlib widget"
   ]
  },
  {
   "cell_type": "code",
   "execution_count": 2,
   "metadata": {},
   "outputs": [],
   "source": [
    "import os\n",
    "import re\n",
    "import numpy as np\n",
    "import pandas as pd\n",
    "\n",
    "import matplotlib as mpl\n",
    "import matplotlib.pyplot as plt\n",
    "from matplotlib.lines import Line2D\n",
    "import seaborn as sns"
   ]
  },
  {
   "cell_type": "code",
   "execution_count": 3,
   "metadata": {},
   "outputs": [],
   "source": [
    "df = pd.read_csv(\"data/data.csv\", index_col=False)  # since 'rank' column is int, need index = False else duplicate index"
   ]
  },
  {
   "cell_type": "markdown",
   "metadata": {},
   "source": [
    "# 2. Data cleaning\n",
    "I used the results from all IFSC World Cup competitions since 2011 (when the first World Records were established). World Championships were excluded, as well as any competition whose results (for male and female competitors) were partially or fully missing from the [the IFSC website](https://www.ifsc-climbing.org/index.php). I might add other competitions later.\n",
    "\n",
    "I manually copy/pasted 112 raw text files (one file per competition per gender since 2011) from the IFSC website's [results page](https://www.ifsc-climbing.org/index.php/world-competition/last-result), then organized the data into a pandas dataframe (saved as a .csv file). Columns were 'tidied' according to the guidelines in Hadley Wickham's [Tidy Data](http://vita.had.co.nz/papers/tidy-data.pdf) paper."
   ]
  },
  {
   "cell_type": "code",
   "execution_count": 33,
   "metadata": {},
   "outputs": [],
   "source": [
    "#----------Parse data----------#\n",
    "\n",
    "def process_file(filename):\n",
    "    with open(\"data/raw/\" + filename, 'r') as f:\n",
    "        content = f.read()\n",
    "        content = re.sub(re.compile('[\\n\\t]+'), ',', content)\n",
    "        content = re.sub(re.compile(',+'), ',', content)\n",
    "        content = re.sub(re.compile(',(?=\\d+,)'), '\\n', content)\n",
    "    with open(\"data/clean/\" + filename, 'w') as f:\n",
    "        f.write(content)\n",
    "\n",
    "        \n",
    "def make_dataframe(filename):\n",
    "    df = pd.read_csv(\"data/clean/\" + filename, header = None, names=['rank', 'first_name', 'last_name', 'nation', 'qualifications', 'final'], index_col=False)\n",
    "    df[['year', 'gender', 'city', 'country']] = filename.split('-')\n",
    "    return df\n",
    "\n",
    "for filename in os.listdir(\"data/raw\"):\n",
    "    process_file(filename)\n",
    "\n",
    "df = (pd.concat([make_dataframe(filename) for filename in os.listdir(\"data/clean\")])).reset_index(drop=True)"
   ]
  },
  {
   "cell_type": "code",
   "execution_count": 34,
   "metadata": {},
   "outputs": [],
   "source": [
    "#----------Tidy columns----------#\n",
    "\n",
    "df['first_name'] += ' ' + df['last_name']\n",
    "df = df.drop(['last_name'], axis=1).rename(columns={'first_name':'name'})\n",
    "\n",
    "df = df.melt(id_vars=['year', 'country', 'city', 'gender', 'rank', 'name', 'nation'], var_name='round', value_name='time')\n",
    "df['forfeit'] = df.loc[df['time'].str.replace('.', '').str.isnumeric() == False]['time']\n",
    "df['time'] = df.loc[df['time'].str.replace('.', '').str.isnumeric() == True]['time']"
   ]
  },
  {
   "cell_type": "code",
   "execution_count": 36,
   "metadata": {},
   "outputs": [],
   "source": [
    "#-------------Save-------------#\n",
    "\n",
    "df.to_csv(\"data/data.csv\", index=False)"
   ]
  },
  {
   "cell_type": "markdown",
   "metadata": {},
   "source": [
    "# 3. Exploring the data\n",
    "_NOTE: Throughout, women's performances are displayed in blue and men's in orange_"
   ]
  },
  {
   "cell_type": "markdown",
   "metadata": {},
   "source": [
    "## Evolution of the world record throughout the years.\n",
    "An overview of recent world record history is available [here](https://www.ifsc-climbing.org/index.php/world-competition/speed-world-record-overview).\n",
    "\n",
    "Note: Times higher than 16 seconds (12 seconds for men) were ignored in mean computations as these correspond to slips/fumbles and are not representatives of overall ahtlete's performance.\n",
    "\n",
    "**Observations.**\n",
    "- The trends in both world records are reflected in the average time of the top 16 athletes in each competition; the season (and world)'s record seem to reflect a general trend rather than a fluke. \n",
    "- The women's curve presents a steeper downward trend than the men's; a possible explanation would be that women are still further from theoretical physical limitations than men."
   ]
  },
  {
   "cell_type": "code",
   "execution_count": 4,
   "metadata": {},
   "outputs": [],
   "source": [
    "class HiddenAnnotation:\n",
    "    def __init__(self, annotation, pickradius=0.3):\n",
    "        self.x, self.y = annotation.xy\n",
    "        self.text = annotation\n",
    "        self.pickradius = pickradius\n",
    "        self.text.set_visible(False)\n",
    "\n",
    "    def connect(self):\n",
    "        self.cidmotion = self.text.figure.canvas.mpl_connect(\n",
    "            'button_press_event', self.on_press)\n",
    "\n",
    "    def on_press(self, event):\n",
    "        'on button press, store some data'\n",
    "        if event.inaxes != self.text.axes: return\n",
    "        if self.x - self.pickradius <= event.xdata <= self.x + self.pickradius and self.y - self.pickradius <= event.ydata <= self.y + self.pickradius:\n",
    "            self.text.set_visible(True)\n",
    "            self.text.figure.canvas.draw()\n",
    "        else:\n",
    "            self.text.set_visible(False)\n",
    "            self.text.figure.canvas.draw()\n",
    "\n",
    "    def disconnect(self):\n",
    "        'disconnect all the stored connection ids'\n",
    "        self.text.figure.canvas.mpl_disconnect(self.cidmotion)"
   ]
  },
  {
   "cell_type": "code",
   "execution_count": 5,
   "metadata": {},
   "outputs": [
    {
     "data": {
      "application/vnd.jupyter.widget-view+json": {
       "model_id": "098f041324c34035a5d7beab8e7f23ee",
       "version_major": 2,
       "version_minor": 0
      },
      "text/plain": [
       "Canvas(toolbar=Toolbar(toolitems=[('Home', 'Reset original view', 'home', 'home'), ('Back', 'Back to previous …"
      ]
     },
     "metadata": {},
     "output_type": "display_data"
    }
   ],
   "source": [
    "fig, ax = plt.subplots()\n",
    "\n",
    "ax.set(title=\"Comparison of season's record with \\naverage performance of top athletes\\n(click to display record holder)\")\n",
    "\n",
    "for spine in ['top', 'right']:\n",
    "    ax.spines[spine].set_visible(False)\n",
    "    \n",
    "record_plot_w = df.loc[df['gender'] == 'women'].groupby(['year'])['time'].min().plot(\n",
    "    label=\"Women\", color='tab:blue', zorder=1, marker=\"o\", markersize=3.5)  \n",
    "mean_plot_w = df.loc[(df['gender'] == 'women') & (df['time'] <= 16) & (df['rank'] <= 16)].groupby(['year'])['time'].mean().plot(label=\"Mean, women\", color='tab:blue', ls = \":\")\n",
    "annotations_w = []\n",
    "for i in df.loc[df['gender'] == 'women'].groupby(['year'])['time'].idxmin():\n",
    "    if df.iloc[i]['year'] != 2019:\n",
    "        annotation = ax.annotate(df.iloc[i]['name'] + '\\n' + str(df.iloc[i]['time']), (df.iloc[i]['year'], df.iloc[i]['time']), \n",
    "                                 bbox=dict(boxstyle=\"round,pad=.5\", alpha=0.6), xytext=(-10, 10), textcoords='offset points', visible=False)\n",
    "    else:\n",
    "        annotation = ax.annotate(df.iloc[i]['name'] + '\\n' + str(df.iloc[i]['time']), (df.iloc[i]['year'], df.iloc[i]['time']), \n",
    "                                 bbox=dict(boxstyle=\"round,pad=.5\", alpha=0.6), xytext=(-90, -25), textcoords='offset points', visible=False)\n",
    "    hidden_annotation = HiddenAnnotation(annotation)\n",
    "    hidden_annotation.connect()\n",
    "    annotations_w.append(hidden_annotation)\n",
    "\n",
    "\n",
    "record_plot_m = df.loc[df['gender'] == 'men'].groupby(['year'])['time'].min().plot(label=\"Men\", color='tab:orange', zorder=1, marker=\"o\", markersize=3.5)\n",
    "mean_plot_m = df.loc[(df['gender'] == 'men') & (df['time'] <= 12) & (df['rank'] <= 16)].groupby(['year'])['time'].mean().plot(label=\"Mean, men\", color='tab:orange', ls = \":\")\n",
    "annotations_m = []\n",
    "for i in df.loc[df['gender'] == 'men'].groupby(['year'])['time'].idxmin():\n",
    "    if df.iloc[i]['year'] != 2019:\n",
    "        annotation = ax.annotate(df.iloc[i]['name'] + '\\n' + str(df.iloc[i]['time']), (df.iloc[i]['year'], df.iloc[i]['time']), \n",
    "                             bbox=dict(boxstyle=\"round,pad=.5\", alpha=0.6, fc='tab:orange'), xytext=(-10, 10), textcoords='offset points', visible=False)\n",
    "    else:\n",
    "        annotation = ax.annotate(df.iloc[i]['name'] + '\\n' + str(df.iloc[i]['time']), (df.iloc[i]['year'], df.iloc[i]['time']), \n",
    "                                 bbox=dict(boxstyle=\"round,pad=.5\", alpha=0.6, fc='tab:orange'), xytext=(-60, 10), textcoords='offset points', visible=False)\n",
    "    hidden_annotation = HiddenAnnotation(annotation)\n",
    "    hidden_annotation.connect()\n",
    "    annotations_m.append(hidden_annotation)\n",
    "\n",
    "\n",
    "\n",
    "legend_elements = [Line2D([0], [0], color='grey', lw='1.5', label=\"Season's best\"),\n",
    "                   Line2D([0], [0], color='grey', lw='1.5', ls=\":\", label=\"Average of top 16 in each competition\")]\n",
    "\n",
    "\n",
    "ax.legend(handles=legend_elements)\n",
    "\n",
    "ax.tick_params(axis='x', labelrotation=45)\n",
    "ax.set(xlabel='')\n",
    "fig.tight_layout()"
   ]
  },
  {
   "cell_type": "markdown",
   "metadata": {},
   "source": [
    "## Comparison of the distribution of performances for each gender.\n",
    "From my thorough and exclusively scientifically-motivated watching of speed climbing competitions, it appeared that men's performances are more homogenenenous and generally closer to the world record than women's. I plotted the distribution of performances by each gender to figure out whether it was the case. It was."
   ]
  },
  {
   "cell_type": "code",
   "execution_count": 6,
   "metadata": {},
   "outputs": [],
   "source": [
    "median_time_w = df.loc[df['gender'] == 'women']['time'].median()\n",
    "median_time_m = df.loc[df['gender'] == 'men']['time'].median()"
   ]
  },
  {
   "cell_type": "code",
   "execution_count": 7,
   "metadata": {},
   "outputs": [
    {
     "data": {
      "application/vnd.jupyter.widget-view+json": {
       "model_id": "ffe64f600a22440098d07ca1c07ce46f",
       "version_major": 2,
       "version_minor": 0
      },
      "text/plain": [
       "Canvas(toolbar=Toolbar(toolitems=[('Home', 'Reset original view', 'home', 'home'), ('Back', 'Back to previous …"
      ]
     },
     "metadata": {},
     "output_type": "display_data"
    }
   ],
   "source": [
    "fig, ax = plt.subplots()\n",
    "\n",
    "ax.set(ylim=(0,0.6), xlim=(5,16), yticks=np.arange(0,0.7, 0.2), xlabel='Time (in seconds)', ylabel='Frequency')\n",
    "ax.grid(which='both', axis='y', alpha=0.2, zorder=0.1)\n",
    "for spine in ['top', 'left', 'right']:\n",
    "    ax.spines[spine].set_visible(False)        \n",
    "        \n",
    "women_hist = ax.hist(df.loc[df['gender'] == 'women']['time'], \n",
    "                      bins=np.arange(7,16, 0.1), color='tab:blue', density=True, alpha=0.6, zorder=1)\n",
    "men_hist = ax.hist(df.loc[df['gender'] == 'men']['time'], histtype='barstacked', \n",
    "                    bins=np.arange(5,14, 0.1), color='tab:orange', density = True, alpha=0.5, zorder=0.5)\n",
    "\n",
    "# plt.axvline(x=5.48, label=\"Reza Alipourshena, 04-30-17\", color=\"tab:orange\", lw=.7, ls=\"--\")\n",
    "plt.axvline(x=median_time_m, ymax=0.9, label=\"Median time, men\", color=\"tab:orange\", lw=1.5, ls=\"--\", alpha=0.7, zorder=0.5)\n",
    "# plt.axvline(x=6.99, label=\"Aries Susanti Rahayu, 10-19-19\", color=\"tab:blue\", lw=.7, ls=\"--\")\n",
    "plt.axvline(x=median_time_w, ymax=0.9, label=\"Median time, women\", color=\"tab:blue\", lw=1.5, ls=\"--\", alpha=0.7)\n",
    "\n",
    "ax.set(title=\"Distribution of performances from 2011 to 2019\")\n",
    "ax.legend(handles=[Line2D([0], [0], color='grey', lw='1.5', ls='--', label=\"Median time\")]);"
   ]
  },
  {
   "cell_type": "markdown",
   "metadata": {},
   "source": [
    "## Climbing fast or winning the competition\n",
    "Does the fastest athlete always win? The following plot shows the relationship between rank and performance: athletes with faster times tend to place better (bottom left corner), and rank tends to increase as time increases (as shown by the main \"branches\" going up). Outliers (under the main branches) can be attributed to the knockout format of the finals, where absolute speed doesn't matter as much as beating your opponent; in particular, points closer to the bottom-right corner may denote a slip/foul from the runner-up.  \n",
    "\n",
    "**A sufficient condition.** (dashed lines on the graph) For the men, climbing the wall in less than 6 seconds is enough to guarantee a place in the top 16. For the women, the threshold is at 8.4 (but less well-defined).\n",
    "\n",
    "Note: Athletes going through the finals (last 16) will have two recorder times in one given competition (that is, two recorded times for one rank); additionnaly, the IFSC was somewhat inconsistent in reporting records for ranks 16 and above (depending on the particular competition, some are outright absent). In particular, this means that there are more records for ranks 16 and below than for others which can be seen on the plot, as the part of the graph below the y=16 line is much \"fuller\" than the rest."
   ]
  },
  {
   "cell_type": "code",
   "execution_count": 8,
   "metadata": {},
   "outputs": [],
   "source": [
    "sufficient_m = df.loc[(df['rank'] > 16) & (df['gender'] == 'men')]['time'].min()\n",
    "sufficient_w = df.loc[(df['rank'] > 16) & (df['gender'] == 'women')]['time'].min()"
   ]
  },
  {
   "cell_type": "code",
   "execution_count": 9,
   "metadata": {},
   "outputs": [
    {
     "data": {
      "application/vnd.jupyter.widget-view+json": {
       "model_id": "ba5090b2f0bd4e4687371e361f7b58a8",
       "version_major": 2,
       "version_minor": 0
      },
      "text/plain": [
       "Canvas(toolbar=Toolbar(toolitems=[('Home', 'Reset original view', 'home', 'home'), ('Back', 'Back to previous …"
      ]
     },
     "metadata": {},
     "output_type": "display_data"
    }
   ],
   "source": [
    "fig, ax = plt.subplots()\n",
    "\n",
    "ax.set(title=\"Rank as a function of performance\\nand the top 16 threshold\", xlabel=\"Time (in seconds)\", ylabel=\"Rank\", ylim=(1,95), xlim=(5,20), yticks=[1, 16, 40, 60, 80])\n",
    "ax.grid(alpha=0.5, axis='y')\n",
    "for spine in ['top', 'bottom', 'left', 'right']:\n",
    "    ax.spines[spine].set(lw=0.5, alpha=0.5)\n",
    "\n",
    "sns.scatterplot(x='time', y='rank', data=df.loc[(df['time'] < 20) & (df['gender'] == 'men')], s=10, color='tab:orange', alpha=0.4);\n",
    "plt.axvline(x=sufficient_m, color=\"tab:orange\", lw=1.5, ls=\"--\", alpha=0.5)\n",
    "\n",
    "sns.scatterplot(x='time', y='rank', data=df.loc[(df['time'] < 20) & (df['gender'] == 'women')], s=10, color='tab:blue', alpha=0.4);\n",
    "plt.axvline(x=sufficient_w, color=\"tab:blue\", lw=1.5, ls=\"--\", alpha=0.7);\n"
   ]
  },
  {
   "cell_type": "markdown",
   "metadata": {},
   "source": [
    "## Country ranking"
   ]
  },
  {
   "cell_type": "code",
   "execution_count": 10,
   "metadata": {},
   "outputs": [
    {
     "data": {
      "application/vnd.jupyter.widget-view+json": {
       "model_id": "a7b5e5ca1cd44e09969bd1547a556047",
       "version_major": 2,
       "version_minor": 0
      },
      "text/plain": [
       "Canvas(toolbar=Toolbar(toolitems=[('Home', 'Reset original view', 'home', 'home'), ('Back', 'Back to previous …"
      ]
     },
     "metadata": {},
     "output_type": "display_data"
    }
   ],
   "source": [
    "fig, ax1 = plt.subplots()\n",
    "\n",
    "#sns.set_palette('tab10')\n",
    "\n",
    "for spine in ['top', 'bottom', 'left', 'right']:\n",
    "    ax1.spines[spine].set_visible(False)\n",
    "    \n",
    "sns.countplot(y=\"nation\", data=df.loc[(df['rank'] == 1) & (df['round'] == 'final')], hue='gender',\n",
    "              hue_order=['women', 'men'], alpha=0.8, order=['RUS', 'FRA', 'CHN', 'POL', 'INA'], zorder=2, ax=ax1);\n",
    "\n",
    "ax1.set(title=\"Countries with the most gold medals\", xlabel='', ylabel='')\n",
    "ax1.grid(alpha=0.5, axis='x', zorder=0.1)\n",
    "ax1.legend().set_visible(False)\n",
    "\n",
    "plt.tick_params(length=0)"
   ]
  },
  {
   "cell_type": "code",
   "execution_count": 136,
   "metadata": {},
   "outputs": [],
   "source": [
    "plt.close('all')"
   ]
  }
 ],
 "metadata": {
  "kernelspec": {
   "display_name": "Python 3",
   "language": "python",
   "name": "python3"
  },
  "language_info": {
   "codemirror_mode": {
    "name": "ipython",
    "version": 3
   },
   "file_extension": ".py",
   "mimetype": "text/x-python",
   "name": "python",
   "nbconvert_exporter": "python",
   "pygments_lexer": "ipython3",
   "version": "3.8.2"
  }
 },
 "nbformat": 4,
 "nbformat_minor": 4
}
